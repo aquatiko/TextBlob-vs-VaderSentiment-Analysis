{
 "cells": [
  {
   "cell_type": "code",
   "execution_count": 1,
   "metadata": {},
   "outputs": [],
   "source": [
    "import pandas as pd\n",
    "import nltk\n",
    "from nltk.corpus import movie_reviews as mr          #inbuilt nltk dataset of movies reviews\n",
    "import textblob as tb"
   ]
  },
  {
   "cell_type": "code",
   "execution_count": 2,
   "metadata": {},
   "outputs": [],
   "source": [
    "pos_raw= mr.raw(mr.fileids('pos'))       # raw positive sentences from corpus (unformated form)\n",
    "neg_raw= mr.raw(mr.fileids('neg'))       # raw negtive sentences from corpus"
   ]
  },
  {
   "cell_type": "markdown",
   "metadata": {},
   "source": [
    "# **TextBlob Sentiment analysis**"
   ]
  },
  {
   "cell_type": "code",
   "execution_count": 3,
   "metadata": {},
   "outputs": [],
   "source": [
    "pos= tb.TextBlob(pos_raw)            # creating positive TextBlob object\n",
    "neg= tb.TextBlob(neg_raw)"
   ]
  },
  {
   "cell_type": "code",
   "execution_count": 4,
   "metadata": {},
   "outputs": [
    {
     "name": "stdout",
     "output_type": "stream",
     "text": [
      "Wall time: 2min 51s\n"
     ]
    }
   ],
   "source": [
    "%%time\n",
    "correct_pos=0\n",
    "correct_neg=0\n",
    "count_pos=0                                  # calculating number of correct sentiment analysis\n",
    "count_neg=0    \n",
    "\n",
    "for i in pos.sentences:\n",
    "    dummy= i.sentiment.polarity        # polarity ranges from [-1,1] with -1 as -ve extreme and +1 as +ve\n",
    "    if dummy>0:\n",
    "        correct_pos+= 1\n",
    "    count_pos+=1\n",
    "        \n",
    "for i in neg.sentences:\n",
    "    dummy= i.sentiment.polarity\n",
    "    if dummy<=0:\n",
    "        correct_neg+= 1\n",
    "    count_neg+=1"
   ]
  },
  {
   "cell_type": "code",
   "execution_count": 5,
   "metadata": {},
   "outputs": [
    {
     "name": "stdout",
     "output_type": "stream",
     "text": [
      "positive accuracy= 51.105979243760615\n",
      "negative accuracy= 60.71599988706626\n"
     ]
    }
   ],
   "source": [
    "print('positive accuracy=',(correct_pos/count_pos)*100)\n",
    "print('negative accuracy=',(correct_neg/count_neg)*100)"
   ]
  },
  {
   "cell_type": "markdown",
   "metadata": {},
   "source": [
    "# ** VaderSentiment Analysis** "
   ]
  },
  {
   "cell_type": "code",
   "execution_count": 6,
   "metadata": {},
   "outputs": [],
   "source": [
    "pos= [str(sent) for sent in pos.sentences]\n",
    "neg= [str(sent) for sent in neg.sentences]"
   ]
  },
  {
   "cell_type": "code",
   "execution_count": 7,
   "metadata": {},
   "outputs": [
    {
     "name": "stderr",
     "output_type": "stream",
     "text": [
      "F:\\Anaconda3\\lib\\site-packages\\nltk\\twitter\\__init__.py:20: UserWarning: The twython library has not been installed. Some functionality from the twitter package will not be available.\n",
      "  warnings.warn(\"The twython library has not been installed. \"\n"
     ]
    },
    {
     "name": "stdout",
     "output_type": "stream",
     "text": [
      "Wall time: 1min 8s\n"
     ]
    }
   ],
   "source": [
    "%%time\n",
    "count_pos=0\n",
    "count_neg=0\n",
    "correct_pos=0\n",
    "correct_neg=0\n",
    "\n",
    "from nltk.sentiment.vader import SentimentIntensityAnalyzer as sia\n",
    "clf= sia()\n",
    "\n",
    "for sent in pos:\n",
    "    tmp= clf.polarity_scores(sent)\n",
    "    if(tmp['pos']>tmp['neg']):\n",
    "        correct_pos+=1\n",
    "    count_pos+=1\n",
    "    \n",
    "for sent in neg:\n",
    "    tmp= clf.polarity_scores(sent)\n",
    "    if(tmp['pos']<=tmp['neg']):\n",
    "        correct_neg+=1\n",
    "    count_neg+=1"
   ]
  },
  {
   "cell_type": "code",
   "execution_count": 8,
   "metadata": {},
   "outputs": [
    {
     "name": "stdout",
     "output_type": "stream",
     "text": [
      "positive accuracy= 46.406610834423084\n",
      "negative accuracy= 63.6409836528417\n"
     ]
    }
   ],
   "source": [
    "print('positive accuracy=',(correct_pos/count_pos)*100)\n",
    "print('negative accuracy=',(correct_neg/count_neg)*100)"
   ]
  },
  {
   "cell_type": "markdown",
   "metadata": {},
   "source": [
    "> **Testing on the same dataset of movie reviews, we found that TextBlob is slightly more accurate than Vader but Vader works in almost half the time than TextBlob.**"
   ]
  },
  {
   "cell_type": "code",
   "execution_count": null,
   "metadata": {},
   "outputs": [],
   "source": []
  }
 ],
 "metadata": {
  "kernelspec": {
   "display_name": "Python 3",
   "language": "python",
   "name": "python3"
  },
  "language_info": {
   "codemirror_mode": {
    "name": "ipython",
    "version": 3
   },
   "file_extension": ".py",
   "mimetype": "text/x-python",
   "name": "python",
   "nbconvert_exporter": "python",
   "pygments_lexer": "ipython3",
   "version": "3.6.5"
  }
 },
 "nbformat": 4,
 "nbformat_minor": 2
}
